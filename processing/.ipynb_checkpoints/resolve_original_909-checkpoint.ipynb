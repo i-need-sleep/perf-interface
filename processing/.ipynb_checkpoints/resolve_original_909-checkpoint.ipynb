{
 "cells": [
  {
   "cell_type": "markdown",
   "id": "extreme-reception",
   "metadata": {},
   "source": [
    "Resolve the filtered phrases back to the original mid section (with expressive timing and dynamics)."
   ]
  },
  {
   "cell_type": "code",
   "execution_count": 2,
   "id": "adjacent-score",
   "metadata": {},
   "outputs": [],
   "source": [
    "import os\n",
    "\n",
    "import numpy as np\n",
    "\n",
    "import pretty_midi"
   ]
  },
  {
   "cell_type": "code",
   "execution_count": 4,
   "id": "noble-intermediate",
   "metadata": {},
   "outputs": [],
   "source": [
    "filtered_dir = './samples_out'\n",
    "dataset_dir = './POP909-Dataset-master'\n",
    "out_dir = './resolved_909'"
   ]
  },
  {
   "cell_type": "code",
   "execution_count": null,
   "id": "apparent-bulletin",
   "metadata": {},
   "outputs": [],
   "source": [
    "for os.listdi"
   ]
  }
 ],
 "metadata": {
  "kernelspec": {
   "display_name": "Python 3",
   "language": "python",
   "name": "python3"
  },
  "language_info": {
   "codemirror_mode": {
    "name": "ipython",
    "version": 3
   },
   "file_extension": ".py",
   "mimetype": "text/x-python",
   "name": "python",
   "nbconvert_exporter": "python",
   "pygments_lexer": "ipython3",
   "version": "3.8.8"
  }
 },
 "nbformat": 4,
 "nbformat_minor": 5
}
