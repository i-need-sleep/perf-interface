{
 "cells": [
  {
   "cell_type": "code",
   "execution_count": 5,
   "metadata": {},
   "outputs": [],
   "source": [
    "import numpy as np\n",
    "\n",
    "import pretty_midi\n",
    "\n",
    "import os"
   ]
  },
  {
   "cell_type": "code",
   "execution_count": 22,
   "metadata": {},
   "outputs": [
    {
     "data": {
      "text/plain": [
       "[[0.00909090909090909, 4.0],\n",
       " [4.013636363636364, 6.0],\n",
       " [6.013636363636364, 7.995454545454545],\n",
       " [8.018181818181818, 18.0],\n",
       " [18.013636363636362, 20.0],\n",
       " [20.009090909090908, 23.995454545454546],\n",
       " [24.013636363636362, 26.0],\n",
       " [26.009090909090908, 28.0],\n",
       " [28.013636363636362, 34.0],\n",
       " [34.013636363636365, 36.0],\n",
       " [36.01363636363636, 37.99545454545454],\n",
       " [38.01363636363636, 44.0],\n",
       " [44.00909090909091, 46.0],\n",
       " [46.00909090909091, 48.0],\n",
       " [48.01363636363636, 51.99545454545454],\n",
       " [52.018181818181816, 53.0],\n",
       " [53.01363636363636, 54.0],\n",
       " [54.00909090909091, 55.0],\n",
       " [55.01363636363636, 56.0],\n",
       " [56.01363636363636, 59.0],\n",
       " [59.01363636363636, 60.0],\n",
       " [60.01363636363636, 68.0],\n",
       " [68.0090909090909, 70.0],\n",
       " [70.01363636363637, 71.99545454545454],\n",
       " [72.01818181818182, 82.00454545454545],\n",
       " [82.01363636363637, 84.00454545454545],\n",
       " [84.01363636363637, 88.0],\n",
       " [88.0090909090909, 90.0],\n",
       " [90.01363636363637, 91.99545454545454],\n",
       " [92.01363636363637, 95.0]]"
      ]
     },
     "execution_count": 22,
     "metadata": {},
     "output_type": "execute_result"
    }
   ],
   "source": [
    "mid = pretty_midi.PrettyMIDI('final_uae_bpm60.mid')\n",
    "ccs = mid.instruments[0].control_changes\n",
    "\n",
    "sus_out = []\n",
    "cur_out = []\n",
    "thresh = 70\n",
    "\n",
    "for cc in ccs:\n",
    "    if cc.number == 64:\n",
    "        if cc.value > thresh:\n",
    "            cur_out = [cc.time]\n",
    "        elif len(cur_out) > 0:\n",
    "            cur_out.append(cc.time)\n",
    "            if len(cur_out) == 2:\n",
    "                sus_out.append(cur_out)\n",
    "            cur_out = []\n",
    "sus_out"
   ]
  },
  {
   "cell_type": "code",
   "execution_count": null,
   "metadata": {},
   "outputs": [],
   "source": []
  }
 ],
 "metadata": {
  "kernelspec": {
   "display_name": "Python 3.8.8 ('base')",
   "language": "python",
   "name": "python3"
  },
  "language_info": {
   "codemirror_mode": {
    "name": "ipython",
    "version": 3
   },
   "file_extension": ".py",
   "mimetype": "text/x-python",
   "name": "python",
   "nbconvert_exporter": "python",
   "pygments_lexer": "ipython3",
   "version": "3.8.8"
  },
  "orig_nbformat": 4,
  "vscode": {
   "interpreter": {
    "hash": "b5efcd3efc71ef29576cdfc4a5c5091a22a4d39f277c681ebc64abd29d3aec9c"
   }
  }
 },
 "nbformat": 4,
 "nbformat_minor": 2
}
