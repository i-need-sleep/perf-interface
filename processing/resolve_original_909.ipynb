{
 "cells": [
  {
   "cell_type": "markdown",
   "id": "extreme-reception",
   "metadata": {},
   "source": [
    "Resolve the filtered phrases back to the original mid section (with expressive timing and dynamics)."
   ]
  },
  {
   "cell_type": "code",
   "execution_count": 1,
   "id": "adjacent-score",
   "metadata": {},
   "outputs": [],
   "source": [
    "import os\n",
    "\n",
    "import numpy as np\n",
    "\n",
    "import pretty_midi"
   ]
  },
  {
   "cell_type": "code",
   "execution_count": 2,
   "id": "noble-intermediate",
   "metadata": {},
   "outputs": [],
   "source": [
    "filtered_dir = './samples_out'\n",
    "dataset_dir = './POP909-Dataset-master'\n",
    "out_dir = './resolved_909'"
   ]
  },
  {
   "cell_type": "code",
   "execution_count": 4,
   "id": "apparent-bulletin",
   "metadata": {},
   "outputs": [
    {
     "name": "stdout",
     "output_type": "stream",
     "text": [
      "132_A 4.0\n",
      "473_X 4.0\n",
      "476_X 8.0\n",
      "476_X 1.2375000000000007\n",
      "888_A 4.0\n",
      "888_X 4.0\n"
     ]
    }
   ],
   "source": [
    "def reorder_notes(notes):\n",
    "    # reorder note by starting time\n",
    "    return sorted(notes, key=lambda x: x.start)\n",
    "\n",
    "def notes_to_pit_bucket(notes):\n",
    "    # convert pretty_midi notes to 128*1 np arrays\n",
    "    out = np.zeros((128, 1))\n",
    "    for note in notes:\n",
    "        out[note.pitch] += 1\n",
    "    return out\n",
    "\n",
    "for i, seg_name in enumerate(os.listdir(filtered_dir)):\n",
    "    song_id = seg_name[:-2]\n",
    "    quantized_path = f'{filtered_dir}/{seg_name}/accompaniment_track.mid'\n",
    "    quantized_notes = reorder_notes(pretty_midi.PrettyMIDI(quantized_path).instruments[0].notes)\n",
    "    \n",
    "    original_path =f'{dataset_dir}/POP909/{song_id}/{song_id}.mid'\n",
    "    original_mid = pretty_midi.PrettyMIDI(original_path)\n",
    "    original_notes = []\n",
    "    for inst in original_mid.instruments:\n",
    "        if inst.name == 'PIANO' or inst.name == 'BRIDGE':\n",
    "            original_notes += inst.notes\n",
    "        original_notes = reorder_notes(original_notes)\n",
    "    original_bpms = original_mid.get_tempo_changes()[1]\n",
    "\n",
    "    # To find the original midi sequence:\n",
    "    # Match the pitch of the first note (try all of them if there are more than one)\n",
    "    # Compare the bucket of pitches\n",
    "    quantized_bucket = notes_to_pit_bucket(quantized_notes)\n",
    "    \n",
    "    # Find the first pitch(es)\n",
    "    first_pits = []\n",
    "    for note in quantized_notes:\n",
    "        if note.start == 0:\n",
    "            first_pits.append(note.pitch)\n",
    "\n",
    "    best_candidate, best_score = 0, 999\n",
    "    for idx, note in enumerate(original_notes):\n",
    "        if note.pitch in first_pits:\n",
    "            candidate = original_notes[idx: idx + len(quantized_notes)]\n",
    "            original_bucket = notes_to_pit_bucket(candidate)\n",
    "            \n",
    "            # Simple L1 distance suffices here\n",
    "            score = np.sum(np.abs(original_bucket - quantized_bucket))\n",
    "            if score < best_score:\n",
    "                best_score = score\n",
    "                best_candidate = candidate\n",
    "\n",
    "    if best_score > 2:\n",
    "        print(seg_name, best_score)\n",
    "\n",
    "    # Adjust for the starting offset and tempo\n",
    "    offset = best_candidate[0].start\n",
    "    for note in best_candidate:\n",
    "        note.start -= offset\n",
    "        note.end -= offset\n",
    "    \n",
    "    # Find the best bpm by end time\n",
    "    best_bpm = 0\n",
    "    best_score = 999\n",
    "    for bpm in original_bpms:\n",
    "        bpm = float(bpm)\n",
    "        if bpm > 0:\n",
    "            end_t = best_candidate[-1].start * bpm / 80\n",
    "            score = abs(end_t - quantized_notes[-1].start)\n",
    "            if score < best_score:\n",
    "                best_score = score\n",
    "                best_bpm = bpm\n",
    "\n",
    "    for note in best_candidate:\n",
    "        note.start *= best_bpm / 80\n",
    "        note.end *= best_bpm / 80\n",
    "\n",
    "    if best_score > 1:\n",
    "        print(seg_name, best_score)\n",
    "\n",
    "    # Write the mid\n",
    "    inst = pretty_midi.Instrument(0)\n",
    "    inst.notes = best_candidate\n",
    "    out_mid = pretty_midi.PrettyMIDI(initial_tempo=80)\n",
    "    out_mid.instruments.append(inst)\n",
    "    out_mid.write(f'{out_dir}/{seg_name}.mid')\n",
    "\n",
    "    "
   ]
  },
  {
   "cell_type": "code",
   "execution_count": null,
   "id": "d6162d1d",
   "metadata": {},
   "outputs": [],
   "source": []
  }
 ],
 "metadata": {
  "kernelspec": {
   "display_name": "Python 3.8.8 ('base')",
   "language": "python",
   "name": "python3"
  },
  "language_info": {
   "codemirror_mode": {
    "name": "ipython",
    "version": 3
   },
   "file_extension": ".py",
   "mimetype": "text/x-python",
   "name": "python",
   "nbconvert_exporter": "python",
   "pygments_lexer": "ipython3",
   "version": "3.8.8"
  },
  "vscode": {
   "interpreter": {
    "hash": "b5efcd3efc71ef29576cdfc4a5c5091a22a4d39f277c681ebc64abd29d3aec9c"
   }
  }
 },
 "nbformat": 4,
 "nbformat_minor": 5
}
